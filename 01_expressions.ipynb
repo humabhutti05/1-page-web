{
  "nbformat": 4,
  "nbformat_minor": 0,
  "metadata": {
    "colab": {
      "provenance": [],
      "authorship_tag": "ABX9TyORJv0fqfWYHeqwln97Ue/6",
      "include_colab_link": true
    },
    "kernelspec": {
      "name": "python3",
      "display_name": "Python 3"
    },
    "language_info": {
      "name": "python"
    }
  },
  "cells": [
    {
      "cell_type": "markdown",
      "metadata": {
        "id": "view-in-github",
        "colab_type": "text"
      },
      "source": [
        "<a href=\"https://colab.research.google.com/github/humabhutti05/1-page-web/blob/main/01_expressions.ipynb\" target=\"_parent\"><img src=\"https://colab.research.google.com/assets/colab-badge.svg\" alt=\"Open In Colab\"/></a>"
      ]
    },
    {
      "cell_type": "markdown",
      "source": [
        "***01_dicesimulator***"
      ],
      "metadata": {
        "id": "HSjFa0nQwKVj"
      }
    },
    {
      "cell_type": "code",
      "execution_count": 1,
      "metadata": {
        "colab": {
          "base_uri": "https://localhost:8080/"
        },
        "id": "KS9kISUhwIIi",
        "outputId": "49cb4559-ec91-41d7-82ce-5e2304213818"
      },
      "outputs": [
        {
          "output_type": "stream",
          "name": "stdout",
          "text": [
            "Rolling the dice three times...\n",
            "Roll results: Die 1: 2, Die 2: 5, Total: 7\n",
            "Roll results: Die 1: 1, Die 2: 3, Total: 4\n",
            "Roll results: Die 1: 6, Die 2: 3, Total: 9\n"
          ]
        }
      ],
      "source": [
        "# Import the random library which lets us simulate random things like dice!\n",
        "import random\n",
        "\n",
        "# Number of sides on each die to roll\n",
        "NUM_SIDES = 6\n",
        "\n",
        "def roll_dice():\n",
        "    \"\"\"\n",
        "    Simulates rolling two dice and prints their total\n",
        "    \"\"\"\n",
        "    die1 = random.randint(1, NUM_SIDES)\n",
        "    die2 = random.randint(1, NUM_SIDES)\n",
        "    total = die1 + die2\n",
        "    print(f\"Roll results: Die 1: {die1}, Die 2: {die2}, Total: {total}\")\n",
        "\n",
        "def main():\n",
        "    # Simulate rolling the dice three times\n",
        "    print(\"Rolling the dice three times...\")\n",
        "    roll_dice()\n",
        "    roll_dice()\n",
        "    roll_dice()\n",
        "\n",
        "# This provided line is required at the end of a Python file\n",
        "# to call the main() function.\n",
        "if __name__ == '__main__':\n",
        "    main()\n"
      ]
    },
    {
      "cell_type": "markdown",
      "source": [
        "***02_e=mc2.***"
      ],
      "metadata": {
        "id": "NUJRgTiPwi8Y"
      }
    },
    {
      "cell_type": "code",
      "source": [
        "def main():\n",
        "    C = 299792458  # Speed of light in meters per second (m/s)\n",
        "\n",
        "    # Prompt the user to enter the mass in kilograms\n",
        "    mass_in_kg = float(input(\"Enter kilos of mass: \"))\n",
        "\n",
        "    # Calculate energy using the formula E = m * c^2\n",
        "    energy_in_joules = mass_in_kg * (C ** 2)\n",
        "\n",
        "    # Display the results to the user\n",
        "    print(\"e = m * C^2...\")\n",
        "    print(\"m = \" + str(mass_in_kg) + \" kg\")\n",
        "    print(\"C = \" + str(C) + \" m/s\")\n",
        "    print(str(energy_in_joules) + \" joules of energy!\")\n",
        "\n",
        "\n",
        "# This provided line is required at the end of the Python file\n",
        "# to call the main() function.\n",
        "if __name__ == '__main__':\n",
        "    main()\n"
      ],
      "metadata": {
        "colab": {
          "base_uri": "https://localhost:8080/"
        },
        "id": "R2VNiSFWwmyS",
        "outputId": "7e69f64c-a259-4e6a-dc58-f09f3ea0ba0a"
      },
      "execution_count": 2,
      "outputs": [
        {
          "output_type": "stream",
          "name": "stdout",
          "text": [
            "Enter kilos of mass: 65\n",
            "e = m * C^2...\n",
            "m = 65.0 kg\n",
            "C = 299792458 m/s\n",
            "5.841908661789314e+18 joules of energy!\n"
          ]
        }
      ]
    },
    {
      "cell_type": "markdown",
      "source": [
        "***03_feet_to_inches***"
      ],
      "metadata": {
        "id": "ALztGVVewyUF"
      }
    },
    {
      "cell_type": "code",
      "source": [
        "\"\"\"\n",
        "An example program with constants\n",
        "\"\"\"\n",
        "\n",
        "INCHES_IN_FOOT = 12  # Conversion factor. There are 12 inches for 1 foot.\n",
        "\n",
        "def main():\n",
        "    feet = float(input(\"Enter number of feet: \"))  # Get the number of feet, cast it to a float\n",
        "    inches = feet * INCHES_IN_FOOT  # Perform the conversion\n",
        "    print(\"That is\", inches, \"inches!\")  # Output the result\n",
        "\n",
        "# This provided line is required at the end of a Python file\n",
        "# to call the main() function.\n",
        "if __name__ == '__main__':\n",
        "    main()\n"
      ],
      "metadata": {
        "colab": {
          "base_uri": "https://localhost:8080/"
        },
        "id": "KKpRMduUw1mZ",
        "outputId": "4a960aae-3d5a-4637-b02d-436431fa7b40"
      },
      "execution_count": 3,
      "outputs": [
        {
          "output_type": "stream",
          "name": "stdout",
          "text": [
            "Enter number of feet: 45\n",
            "That is 540.0 inches!\n"
          ]
        }
      ]
    },
    {
      "cell_type": "markdown",
      "source": [
        "***04_pythagorean_theorem***"
      ],
      "metadata": {
        "id": "MvQvlwAPxGGD"
      }
    },
    {
      "cell_type": "code",
      "source": [
        "import math  # Import the math library so we can use the sqrt function\n",
        "\n",
        "def main():\n",
        "    # Get the two side lengths from the user and cast them to be numbers\n",
        "    ab = float(input(\"Enter the length of AB: \"))  # Side AB (one of the perpendicular sides)\n",
        "    ac = float(input(\"Enter the length of AC: \"))  # Side AC (the other perpendicular side)\n",
        "\n",
        "    # Calculate the hypotenuse using the Pythagorean theorem: BC = sqrt(AB^2 + AC^2)\n",
        "    bc = math.sqrt(ab**2 + ac**2)\n",
        "\n",
        "    # Print the length of the hypotenuse\n",
        "    print(\"The length of BC (the hypotenuse) is: \" + str(bc))\n",
        "\n",
        "\n",
        "# This provided line is required at the end of the Python file to call the main() function.\n",
        "if __name__ == '__main__':\n",
        "    main()\n"
      ],
      "metadata": {
        "colab": {
          "base_uri": "https://localhost:8080/"
        },
        "id": "5_qgwqh9xIK4",
        "outputId": "15511669-626e-4eab-fc42-ac010dee45c3"
      },
      "execution_count": 4,
      "outputs": [
        {
          "output_type": "stream",
          "name": "stdout",
          "text": [
            "Enter the length of AB: 45\n",
            "Enter the length of AC: 67\n",
            "The length of BC (the hypotenuse) is: 80.7093550959243\n"
          ]
        }
      ]
    },
    {
      "cell_type": "markdown",
      "source": [
        "***05_remainder_division***"
      ],
      "metadata": {
        "id": "U2vIVZjaxRYi"
      }
    },
    {
      "cell_type": "code",
      "source": [
        "def main():\n",
        "    # Get the numbers we want to divide\n",
        "    dividend = int(input(\"Please enter an integer to be divided: \"))  # The number to be divided\n",
        "    divisor = int(input(\"Please enter an integer to divide by: \"))  # The number to divide by\n",
        "\n",
        "    quotient = dividend // divisor  # Integer division (quotient)\n",
        "    remainder = dividend % divisor  # Get the remainder (modulo operation)\n",
        "\n",
        "    # Output the result\n",
        "    print(\"The result of this division is \" + str(quotient) + \" with a remainder of \" + str(remainder))\n",
        "\n",
        "\n",
        "# This provided line is required at the end of the Python file to call the main() function.\n",
        "if __name__ == '__main__':\n",
        "    main()\n"
      ],
      "metadata": {
        "colab": {
          "base_uri": "https://localhost:8080/"
        },
        "id": "BAYSWnuSxTbh",
        "outputId": "491c6fd5-411d-4757-852a-d2cbab77e54f"
      },
      "execution_count": 5,
      "outputs": [
        {
          "output_type": "stream",
          "name": "stdout",
          "text": [
            "Please enter an integer to be divided: 65\n",
            "Please enter an integer to divide by: 8\n",
            "The result of this division is 8 with a remainder of 1\n"
          ]
        }
      ]
    },
    {
      "cell_type": "markdown",
      "source": [
        "***06_rolldice***"
      ],
      "metadata": {
        "id": "hReXkwu2xpeK"
      }
    },
    {
      "cell_type": "code",
      "source": [
        "\"\"\"\n",
        "Simulate rolling two dice, and prints results of each\n",
        "roll as well as the total.\n",
        "\"\"\"\n",
        "# Import the random library which lets us simulate random things like dice!\n",
        "import random\n",
        "\n",
        "# Number of sides on each die to roll\n",
        "NUM_SIDES = 6\n",
        "\n",
        "def main():\n",
        "    # Roll die\n",
        "    die1 = random.randint(1, NUM_SIDES)\n",
        "    die2 = random.randint(1, NUM_SIDES)\n",
        "\n",
        "    # Get their total\n",
        "    total = die1 + die2\n",
        "\n",
        "    # Print out the results\n",
        "    print(\"Dice have\", NUM_SIDES, \"sides each.\")\n",
        "    print(\"First die:\", die1)\n",
        "    print(\"Second die:\", die2)\n",
        "    print(\"Total of two dice:\", total)\n",
        "\n",
        "\n",
        "# This provided line is required at the end of a Python file\n",
        "# to call the main() function.\n",
        "if __name__ == '__main__':\n",
        "    main()\n"
      ],
      "metadata": {
        "colab": {
          "base_uri": "https://localhost:8080/"
        },
        "id": "5cKkwlMexrBG",
        "outputId": "72593547-06fb-4b07-ebc5-128e2fc83f58"
      },
      "execution_count": 6,
      "outputs": [
        {
          "output_type": "stream",
          "name": "stdout",
          "text": [
            "Dice have 6 sides each.\n",
            "First die: 2\n",
            "Second die: 4\n",
            "Total of two dice: 6\n"
          ]
        }
      ]
    },
    {
      "cell_type": "markdown",
      "source": [
        "***06_seconds_in_year.***"
      ],
      "metadata": {
        "id": "4LHcgSNyxzh2"
      }
    },
    {
      "cell_type": "code",
      "source": [
        "# Useful constants to help make the math easier and cleaner!\n",
        "DAYS_PER_YEAR: int = 365\n",
        "HOURS_PER_DAY: int = 24\n",
        "MIN_PER_HOUR: int = 60\n",
        "SEC_PER_MIN: int = 60\n",
        "\n",
        "def main():\n",
        "    # Calculate the number of seconds in a year\n",
        "    seconds_per_year = DAYS_PER_YEAR * HOURS_PER_DAY * MIN_PER_HOUR * SEC_PER_MIN\n",
        "\n",
        "    # Display the result\n",
        "    print(\"There are \" + str(seconds_per_year) + \" seconds in a year!\")\n",
        "\n",
        "# This provided line is required at the end of a Python file\n",
        "# to call the main() function.\n",
        "if __name__ == '__main__':\n",
        "    main()\n"
      ],
      "metadata": {
        "colab": {
          "base_uri": "https://localhost:8080/"
        },
        "id": "dalKhYsWx11G",
        "outputId": "fe0aee27-377a-4c10-8ee6-b5a0769c798f"
      },
      "execution_count": 7,
      "outputs": [
        {
          "output_type": "stream",
          "name": "stdout",
          "text": [
            "There are 31536000 seconds in a year!\n"
          ]
        }
      ]
    },
    {
      "cell_type": "markdown",
      "source": [
        "***07_tiny_mad_lib***"
      ],
      "metadata": {
        "id": "PgMPT-CWx2HO"
      }
    },
    {
      "cell_type": "code",
      "source": [
        "SENTENCE_START: str = \"Panaversity is fun. I learned to program and used Python to make my \"  # adjective noun verb\n",
        "\n",
        "def main():\n",
        "    # Get user inputs\n",
        "    adjective: str = input(\"Please type an adjective and press enter. \")\n",
        "    noun: str = input(\"Please type a noun and press enter. \")\n",
        "    verb: str = input(\"Please type a verb and press enter. \")\n",
        "\n",
        "    # Construct and display the final sentence\n",
        "    print(SENTENCE_START + adjective + \" \" + noun + \" \" + verb + \"!\")\n",
        "\n",
        "# This provided line is required at the end of a Python file\n",
        "# to call the main() function.\n",
        "if __name__ == '__main__':\n",
        "    main()\n"
      ],
      "metadata": {
        "colab": {
          "base_uri": "https://localhost:8080/"
        },
        "id": "JiK6Afe9x7Nv",
        "outputId": "58d0548e-3e5a-4aa2-bcfc-b496c826a0a4"
      },
      "execution_count": 8,
      "outputs": [
        {
          "output_type": "stream",
          "name": "stdout",
          "text": [
            "Please type an adjective and press enter. re\n",
            "Please type a noun and press enter. ali\n",
            "Please type a verb and press enter. name\n",
            "Panaversity is fun. I learned to program and used Python to make my re ali name!\n"
          ]
        }
      ]
    }
  ]
}